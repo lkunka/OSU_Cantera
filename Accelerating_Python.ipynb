{
 "cells": [
  {
   "cell_type": "markdown",
   "metadata": {},
   "source": [
    "# Accelerating Python"
   ]
  },
  {
   "cell_type": "code",
   "execution_count": 4,
   "metadata": {},
   "outputs": [],
   "source": [
    "import numpy as np\n",
    "import multiprocessing\n",
    "import time"
   ]
  },
  {
   "cell_type": "markdown",
   "metadata": {},
   "source": [
    "## The POWER of Numpy"
   ]
  },
  {
   "cell_type": "code",
   "execution_count": 5,
   "metadata": {},
   "outputs": [
    {
     "name": "stdout",
     "output_type": "stream",
     "text": [
      "Using 1000000 integers\n",
      "1000001000000.0\n",
      "Without Numpy Total Time:  0.38362979888916016 s\n",
      "1000001000000.0\n",
      "With Numpy Total Time:  0.02866983413696289 s\n"
     ]
    }
   ],
   "source": [
    "#with lists\n",
    "n=1000000\n",
    "print(\"Using\", n, \"integers\")\n",
    "tic=time.time()\n",
    "a=[x for x in range(1,n+1)]\n",
    "b=[x for x in range(1,n+1)]\n",
    "c=[]\n",
    "for i in range(len(a)):\n",
    "    c.append(a[i]+b[i])\n",
    "sum_c=0.0\n",
    "for i in range(len(c)):\n",
    "    sum_c+=c[i]\n",
    "print(sum_c)\n",
    "toc=time.time()\n",
    "print(\"Without Numpy Total Time: \", toc-tic,\"s\")\n",
    "\n",
    "#With Numpy\n",
    "tic=time.time()\n",
    "np_a=np.linspace(0,n,n+1)\n",
    "np_b=np.linspace(0,n,n+1)\n",
    "np_c=np_a+np_b\n",
    "npsum_c=np.sum(np_c)\n",
    "print(npsum_c)\n",
    "toc=time.time()\n",
    "print(\"With Numpy Total Time: \", toc-tic,\"s\")"
   ]
  },
  {
   "cell_type": "markdown",
   "metadata": {},
   "source": [
    "## Multiprocessing"
   ]
  },
  {
   "cell_type": "code",
   "execution_count": 6,
   "metadata": {},
   "outputs": [],
   "source": [
    "# Function to run in parallel\n",
    "def find_primes(proc,low,high):\n",
    "    #print(\"Process:\", proc, \"Range:\",low,\"-\",high)\n",
    "    for num in range(low,high+1):\n",
    "        if num>1:\n",
    "            for i in range(2,num):\n",
    "                if (num%i==0):\n",
    "                    break\n",
    "            #else:\n",
    "                #print(num)\n",
    "            "
   ]
  },
  {
   "cell_type": "code",
   "execution_count": 7,
   "metadata": {},
   "outputs": [
    {
     "name": "stdout",
     "output_type": "stream",
     "text": [
      "Process: 0 Range: 0 - 24999\n",
      "Process: 1 Range: 25000 - 49999\n",
      "Process: 2 Range: 50000 - 74999\n",
      "Process: 3 Range: 75000 - 99999\n",
      "Found Primes in 11.487150192260742 seconds\n"
     ]
    }
   ],
   "source": [
    "if __name__ == \"__main__\":\n",
    "    \n",
    "    start=time.time()\n",
    "    \n",
    "    n_processes=4\n",
    "    num_range=[0,100000]\n",
    "    interval=(num_range[1]-num_range[0])/n_processes\n",
    "    interval=int(interval)\n",
    "    #print(interval)\n",
    "    \n",
    "    jobs=[]\n",
    "    \n",
    "    for i in range(n_processes):\n",
    "        \n",
    "        low=i*interval\n",
    "        high=(i+1)*interval-1\n",
    "        proc=i\n",
    "        print(\"Process:\", proc, \"Range:\",low,\"-\",high)\n",
    "        p=multiprocessing.Process(target=find_primes, args=(proc,low,high))\n",
    "        jobs.append(p)\n",
    "        p.start()\n",
    "    \n",
    "    for job in jobs:\n",
    "        job.join()\n",
    "    \n",
    "    end=time.time()\n",
    "    print(\"Found Primes in\", end-start, \"seconds\")"
   ]
  },
  {
   "cell_type": "code",
   "execution_count": null,
   "metadata": {},
   "outputs": [],
   "source": []
  }
 ],
 "metadata": {
  "kernelspec": {
   "display_name": "Python 3",
   "language": "python",
   "name": "python3"
  },
  "language_info": {
   "codemirror_mode": {
    "name": "ipython",
    "version": 3
   },
   "file_extension": ".py",
   "mimetype": "text/x-python",
   "name": "python",
   "nbconvert_exporter": "python",
   "pygments_lexer": "ipython3",
   "version": "3.7.4"
  }
 },
 "nbformat": 4,
 "nbformat_minor": 4
}
