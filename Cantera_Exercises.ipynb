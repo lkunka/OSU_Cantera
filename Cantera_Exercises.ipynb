{
 "cells": [
  {
   "cell_type": "markdown",
   "metadata": {},
   "source": [
    "# A few hands-on exercises"
   ]
  },
  {
   "cell_type": "code",
   "execution_count": null,
   "metadata": {},
   "outputs": [],
   "source": [
    "import cantera as ct\n",
    "import numpy as np\n",
    "import matplotlib.pyplot as plt"
   ]
  },
  {
   "cell_type": "markdown",
   "metadata": {},
   "source": [
    "## Chemical Kinetics (Working in 0D)"
   ]
  },
  {
   "cell_type": "code",
   "execution_count": null,
   "metadata": {},
   "outputs": [],
   "source": [
    "# Define the gas\n",
    "gas = ct.Solution('h2o2.cti')"
   ]
  },
  {
   "cell_type": "code",
   "execution_count": null,
   "metadata": {},
   "outputs": [],
   "source": [
    "# Useful tools for setting up the gas\n",
    "gas.TPX=2000, 101325,\"H2:2, O2:1\" #Set using molar string\n",
    "\n",
    "#fuel_species=\"H2\"\n",
    "#ox_species=\"O2\"\n",
    "#phi=1\n",
    "#gas.set_equivalence_ratio(phi,fuel_species,ox_species)\n",
    "#gas.TP=1100, 101325\n",
    "\n",
    "# Check the state of the gas\n",
    "gas()"
   ]
  },
  {
   "cell_type": "code",
   "execution_count": null,
   "metadata": {},
   "outputs": [],
   "source": [
    "# Inspect the gas\n",
    "print(\"Temperature:\",gas.T)\n",
    "print(\"Pressure:\", gas.P)\n",
    "print(\"Species:\", gas.species_names)"
   ]
  },
  {
   "cell_type": "code",
   "execution_count": null,
   "metadata": {},
   "outputs": [],
   "source": [
    "# Methods of the gas object\n",
    "dir(gas)"
   ]
  },
  {
   "cell_type": "code",
   "execution_count": null,
   "metadata": {},
   "outputs": [],
   "source": [
    "# Examine the reactions\n",
    "for i in range(gas.n_reactions):\n",
    "    print(\"Reaction:\", gas.reaction(i).equation)\n",
    "    #print(\"Rate:\", gas.reaction(i).rate )"
   ]
  },
  {
   "cell_type": "code",
   "execution_count": null,
   "metadata": {},
   "outputs": [],
   "source": [
    "# Equilibrate the gas\n",
    "gas.equilibrate('UV')\n",
    "print(\"Temperature:\",gas.T)\n",
    "print(\"Pressure:\", gas.P)\n",
    "print(\"Species:\", gas.species_names)\n",
    "print(\"Species X:\", gas.X)\n"
   ]
  },
  {
   "cell_type": "code",
   "execution_count": null,
   "metadata": {},
   "outputs": [],
   "source": [
    "# Look at Rates of Progress\n",
    "rf = gas.forward_rates_of_progress\n",
    "rr = gas.reverse_rates_of_progress\n",
    "for i in range(gas.n_reactions):\n",
    "    if gas.is_reversible(i) and rf[i] != 0.0:\n",
    "        print(gas.reaction(i).equation,'  %10.4g  ' % ( (rf[i] - rr[i])/rf[i]))"
   ]
  },
  {
   "cell_type": "code",
   "execution_count": null,
   "metadata": {},
   "outputs": [],
   "source": [
    "# Heat realease\n",
    "#gas.TPX=2000, 101325,\"H2:2, O2:1\"\n",
    "\n",
    "q=-np.dot(gas.net_production_rates, gas.partial_molar_enthalpies)\n",
    "print(\"Heat Release:\",q)"
   ]
  },
  {
   "cell_type": "markdown",
   "metadata": {},
   "source": [
    "## Time Effects"
   ]
  },
  {
   "cell_type": "code",
   "execution_count": null,
   "metadata": {},
   "outputs": [],
   "source": [
    "#Reset the gas\n",
    "gas.TPX=1100, 101325,\"H2:2, O2:1\""
   ]
  },
  {
   "cell_type": "code",
   "execution_count": null,
   "metadata": {},
   "outputs": [],
   "source": [
    "r = ct.Reactor(contents=gas)\n",
    "reactorNetwork=ct.ReactorNet([r])"
   ]
  },
  {
   "cell_type": "code",
   "execution_count": null,
   "metadata": {},
   "outputs": [],
   "source": [
    "t=0.0\n",
    "dt=1.0E-9\n",
    "est_time=0.00009\n",
    "counter=1\n",
    "time=[t]\n",
    "state=[]\n",
    "X=[gas.X]\n",
    "Temp=[gas.T]\n",
    "q=[0.0]\n",
    "\n",
    "while(t < est_time):\n",
    "    t=t+dt\n",
    "    reactorNetwork.advance(t)\n",
    "    if (counter%10 == 0):\n",
    "        time.append(t)\n",
    "        X.append(gas.X)\n",
    "        Temp.append(gas.T)\n",
    "        state.append(reactorNetwork.get_state())\n",
    "        q.append(-np.sum(gas.net_production_rates*gas.partial_molar_enthalpies))\n",
    "    counter+=1\n",
    "print(counter)\n",
    "X=np.array(X)"
   ]
  },
  {
   "cell_type": "code",
   "execution_count": null,
   "metadata": {},
   "outputs": [],
   "source": [
    "# Plot Results\n",
    "fig,ax1=plt.subplots(figsize=(10,10))\n",
    "for i in range (3,reactorNetwork.n_vars):\n",
    "    ax1.plot(time, X[:,i-3],'--',label=reactorNetwork.component_name(i).split()[1])\n",
    "ax1.tick_params(axis='y', labelcolor='k')\n",
    "\n",
    "ax2=ax1.twinx()\n",
    "ax2.plot(time,Temp,'r')\n",
    "ax2.tick_params(axis='y', labelcolor='r')\n",
    "\n",
    "ax1.set_xlabel(\"Time (s)\")\n",
    "ax1.set_ylabel(\"Species Mass Fraction\", color='k')\n",
    "ax2.set_ylabel(\"Temperature (K)\", color='r')\n",
    "ax1.legend(loc=\"upper left\", fontsize=\"small\")\n",
    "plt.title(\"Detailed Kinetics\")\n",
    "plt.show()"
   ]
  },
  {
   "cell_type": "code",
   "execution_count": null,
   "metadata": {},
   "outputs": [],
   "source": [
    "def ignition_temp(initial_temp):\n",
    "    #0D Simulation\n",
    "    gas_0D = ct.Solution('h2o2.cti')\n",
    "    fuel_species=\"H2\"\n",
    "    ox_species=\"O2\"\n",
    "    phi=1\n",
    "    gas_0D.set_equivalence_ratio(phi,fuel_species,ox_species)\n",
    "    gas_0D.TP=initial_temp, 101325\n",
    "    r = ct.IdealGasReactor(contents=gas_0D)\n",
    "    reactorNetwork=ct.ReactorNet([r])\n",
    "    t=0.0\n",
    "    est_time=0.001\n",
    "    counter=1\n",
    "    time=[]\n",
    "    state=[]\n",
    "\n",
    "    while(t < est_time):\n",
    "        t = reactorNetwork.step()\n",
    "        if (counter%10 == 0):\n",
    "            time.append(t)\n",
    "            state.append(reactorNetwork.get_state())\n",
    "        counter+=1\n",
    "    #print(\"Number of iterations:\" + str(counter))\n",
    "    time=np.array(time)\n",
    "    state=np.array(state)\n",
    "    final_temp=reactorNetwork.get_state()[2]\n",
    "    return final_temp"
   ]
  },
  {
   "cell_type": "code",
   "execution_count": null,
   "metadata": {},
   "outputs": [],
   "source": [
    "temps=np.linspace(300,3000)\n",
    "temp_f=[]\n",
    "for i in temps:\n",
    "    temp_f.append(ignition_temp(i))\n",
    "    #print(\"Initial Temp:\",i,\"Final Temp: \", temp_f[-1])\n",
    "temp_f=np.array(temp_f)\n",
    "\n",
    "plt.plot(temps,temp_f)\n",
    "plt.title(\"Ignition Temperature\")\n",
    "plt.xlabel(\"Intial Temp (K)\")\n",
    "plt.ylabel(\"Final Temp (K)\")\n",
    "plt.show()"
   ]
  },
  {
   "cell_type": "code",
   "execution_count": null,
   "metadata": {},
   "outputs": [],
   "source": [
    "# Calculate Flame Speed\n",
    "gas.TPX=300, 101325,\"H2:2, O2:1\"\n",
    "f=ct.FreeFlame(gas)\n",
    "f.solve()\n",
    "f.show_solution()"
   ]
  },
  {
   "cell_type": "markdown",
   "metadata": {},
   "source": [
    "# Accelerating Python"
   ]
  },
  {
   "cell_type": "code",
   "execution_count": null,
   "metadata": {},
   "outputs": [],
   "source": [
    "import numpy as np\n",
    "import time"
   ]
  },
  {
   "cell_type": "markdown",
   "metadata": {},
   "source": [
    "## The POWER of Numpy"
   ]
  },
  {
   "cell_type": "code",
   "execution_count": null,
   "metadata": {},
   "outputs": [],
   "source": [
    "#with lists\n",
    "n=1000000\n",
    "print(\"Using\", n, \"integers\")\n",
    "tic=time.time()\n",
    "a=[x for x in range(1,n+1)]\n",
    "b=[x for x in range(1,n+1)]\n",
    "c=[]\n",
    "for i in range(len(a)):\n",
    "    c.append(a[i]+b[i])\n",
    "sum_c=0.0\n",
    "for i in range(len(c)):\n",
    "    sum_c+=c[i]\n",
    "print(sum_c)\n",
    "toc=time.time()\n",
    "print(\"Without Numpy Total Time: \", toc-tic,\"s\")\n",
    "\n",
    "#With Numpy\n",
    "tic=time.time()\n",
    "np_a=np.linspace(0,n,n+1)\n",
    "np_b=np.linspace(0,n,n+1)\n",
    "np_c=np_a+np_b\n",
    "npsum_c=np.sum(np_c)\n",
    "print(npsum_c)\n",
    "toc=time.time()\n",
    "print(\"With Numpy Total Time: \", toc-tic,\"s\")\n"
   ]
  },
  {
   "cell_type": "markdown",
   "metadata": {},
   "source": [
    "## Multiprocessing"
   ]
  },
  {
   "cell_type": "code",
   "execution_count": null,
   "metadata": {},
   "outputs": [],
   "source": [
    "import multiprocessing"
   ]
  },
  {
   "cell_type": "code",
   "execution_count": null,
   "metadata": {},
   "outputs": [],
   "source": [
    "def find_primes(proc,low,high):\n",
    "    #print(\"Process:\", proc, \"Range:\",low,\"-\",high)\n",
    "    for num in range(low,high+1):\n",
    "        if num>1:\n",
    "            for i in range(2,num):\n",
    "                if (num%i==0):\n",
    "                    break\n",
    "            #else:\n",
    "                #print(num)\n",
    "            \n",
    "    "
   ]
  },
  {
   "cell_type": "code",
   "execution_count": null,
   "metadata": {},
   "outputs": [],
   "source": [
    "if __name__ == \"__main__\":\n",
    "    \n",
    "    start=time.time()\n",
    "    \n",
    "    n_processes=4\n",
    "    num_range=[0,100000]\n",
    "    interval=(num_range[1]-num_range[0])/n_processes\n",
    "    interval=int(interval)\n",
    "    #print(interval)\n",
    "    \n",
    "    jobs=[]\n",
    "    \n",
    "    for i in range(n_processes):\n",
    "        \n",
    "        low=i*interval\n",
    "        high=(i+1)*interval-1\n",
    "        proc=i\n",
    "        print(\"Process:\", proc, \"Range:\",low,\"-\",high)\n",
    "        p=multiprocessing.Process(target=find_primes, args=(proc,low,high))\n",
    "        jobs.append(p)\n",
    "        p.start()\n",
    "    \n",
    "    for job in jobs:\n",
    "        job.join()\n",
    "    \n",
    "    end=time.time()\n",
    "    print(\"Found Primes in\", end-start, \"seconds\")\n",
    "    "
   ]
  },
  {
   "cell_type": "markdown",
   "metadata": {},
   "source": [
    "## Other topics for parallelism\n",
    "\n",
    "- Generally 1 process per physical processor\n",
    "- Queueing to optimize large loads\n",
    "- concurrent.futures"
   ]
  },
  {
   "cell_type": "markdown",
   "metadata": {},
   "source": [
    "# Extra Challenge\n",
    "\n",
    "Use Cantera and multiprocessing to compute the auto-ignition temperatures of different phi"
   ]
  },
  {
   "cell_type": "code",
   "execution_count": null,
   "metadata": {},
   "outputs": [],
   "source": [
    "temps=np.linspace(293,2000,2000)\n",
    "phi=np.linspace(0.5,1.5,100)\n",
    "\n",
    "#Hints: you can use the ignition_temp() function.\n",
    "\n",
    "#gas = ct.Solution('h2o2.cti')\n",
    "#fuel_species=\"H2\"\n",
    "#ox_species=\"O2\"\n",
    "#phi=1\n",
    "#gas.set_equivalence_ratio(phi,fuel_species,ox_species)\n",
    "#gas.TP=1100, 101325"
   ]
  },
  {
   "cell_type": "code",
   "execution_count": null,
   "metadata": {},
   "outputs": [],
   "source": []
  },
  {
   "cell_type": "code",
   "execution_count": null,
   "metadata": {},
   "outputs": [],
   "source": [
    "if __name__ == \"__main__\":\n",
    "    \n",
    "    start=time.time()\n",
    "    jobs=[]\n",
    "    \n",
    "    ###Code Here###\n",
    "    p=multiprocessing.Process(target=, args=(,))\n",
    "        jobs.append(p)\n",
    "        p.start()\n",
    "    \n",
    "    for job in jobs:\n",
    "        job.join()\n",
    "    \n",
    "    \n",
    "    end=time.time()\n",
    "    print(\"Total Time:\", end-start, \"seconds\")"
   ]
  }
 ],
 "metadata": {
  "kernelspec": {
   "display_name": "cantera_env",
   "language": "python",
   "name": "cantera_env"
  },
  "language_info": {
   "codemirror_mode": {
    "name": "ipython",
    "version": 3
   },
   "file_extension": ".py",
   "mimetype": "text/x-python",
   "name": "python",
   "nbconvert_exporter": "python",
   "pygments_lexer": "ipython3",
   "version": "3.7.9"
  }
 },
 "nbformat": 4,
 "nbformat_minor": 4
}
